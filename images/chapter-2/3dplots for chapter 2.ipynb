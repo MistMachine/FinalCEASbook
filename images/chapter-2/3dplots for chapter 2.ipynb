{
 "cells": [
  {
   "cell_type": "markdown",
   "metadata": {},
   "source": [
    "This notebook contains a list of graphs listed in chapter 1"
   ]
  },
  {
   "cell_type": "code",
   "execution_count": 1,
   "metadata": {},
   "outputs": [],
   "source": [
    "import numpy as np                               #for creating ndarrays for fast and efficient computations\n",
    "\n",
    "import matplotlib as mpl                         #for graphing purposes\n",
    "import matplotlib.pyplot as plt                  #for making plots\n",
    "from mpl_toolkits.mplot3d import Axes3D          #for making 3d Axes (canvas)\n",
    "\n",
    "from ipywidgets import widgets, fixed            #imports widgets for interactivity with plots etc\n",
    "from ipywidgets import interact, interactive,  FloatSlider \n",
    "from IPython.display import display\n",
    "\n",
    "#for interactive notebooks\n",
    "%matplotlib notebook"
   ]
  },
  {
   "cell_type": "markdown",
   "metadata": {},
   "source": [
    "going to make some figure objects to make plots of typical broadband and gaussian linewidths"
   ]
  },
  {
   "cell_type": "code",
   "execution_count": 2,
   "metadata": {},
   "outputs": [
    {
     "data": {
      "application/vnd.jupyter.widget-view+json": {
       "model_id": "ac81568d646c449880314d9fb5e64089",
       "version_major": 2,
       "version_minor": 0
      },
      "text/plain": [
       "interactive(children=(FloatSlider(value=1.0, description='r', max=2.0, step=0.01), Output()), _dom_classes=('w…"
      ]
     },
     "metadata": {},
     "output_type": "display_data"
    },
    {
     "data": {
      "text/plain": [
       "<function __main__.s_electron(r)>"
      ]
     },
     "execution_count": 2,
     "metadata": {},
     "output_type": "execute_result"
    }
   ],
   "source": [
    "#this is a template to show to use the numpy.meshgrid to make plots in spherical coordinates\n",
    "#alternatively, numpy.outer could be used but difficult to remember how it works as it is not intuiative\n",
    "#for those in physics. I could be wrong as this is just how I think. Lemme know your thooooughts\n",
    "#\n",
    "r=1\n",
    "n=30\n",
    "phi = np.linspace (0, 2*np.pi, n) #created a 1d an np.array labelled phi ranging from 0 to 2 pi with 30 steps\n",
    "theta = np.linspace (0, np.pi, n) #created a 1d an np.array labelled theta ranging from 0 to 2 pi with 30 steps\n",
    "\n",
    "PHI, THETA = np.meshgrid(phi,theta) #created a 3d np.array consisting of 2 different 2d np.array\n",
    "#the first 2d np.array is labelled PHI while the 2nd 2d np.array is labelled THETA\n",
    "#the mesh grid takes 2 different arrays and creates a mesh\n",
    "#for two inputs of 1d arrays, from the first input array, a new array is created with a second dimension that is \n",
    "#the same size as the 2nd input array with the elements of the new rows the same as the first input array\n",
    "#just check the phi, theta, PHI and THETA arrays to confirm this\n",
    "#the second array is the 2nd input array given a new dimension based on the phi array filled in with elements from\n",
    "#the second array input array\n",
    "\n",
    "#since we have to plot in cartesian coordinates, we x,y,z in spherical coordinates\n",
    "X = r * np.sin(THETA) * np.cos(PHI) \n",
    "Y = r * np.sin(THETA) * np.sin(PHI) \n",
    "Z = r * np.cos(THETA)\n",
    "\n",
    "#we define a function so that it may be used with the interact widget\n",
    "def s_electron(r):\n",
    "    R=1 #placeholder to modify radial distance as a function of whatever desirable parameter such as phi and theta\n",
    "    electron = plt.figure() #create figure to place axes and surface\n",
    "    electron.set_size_inches(5,5) # sets the vertical and horizontal sizes to be a 5 by 5 inch box\n",
    "    ax_electron = electron.add_subplot(111, projection ='3d') # add a 3d axes to the figure\n",
    "    ax_electron.set_axis_off() # makes the axes transparent so that only the surface object is displayed\n",
    "    p_orbital = ax_electron.plot_surface(X*R, Y*R, Z*R, rstride=1, cstride=1, cmap=plt.get_cmap('winter'),\n",
    "    linewidth=0, antialiased=False, alpha=0.5) #makes he orbital surface with X*R, Y*R, Z*R as inputs with \n",
    "    #Blues colormap\n",
    "    electron.savefig('1s-electron.pdf', format='pdf') #saves the image into as a pdf into the \n",
    "    #same folder as the as jupyter notebook with the filename 1s-electron.pdf\n",
    "    plt.show() #shows plot\n",
    "    \n",
    "interact(s_electron, r=(0,2,0.01),continuous_update=False)\n",
    "#the interact widget float slider doesnt do anything at the moment since I set the function to take r as an \n",
    "#arguement. If you want to see how the interact widget can modify the plot, replace the 'R' with little\n",
    "# 'r'. The big 'R's are in the line plot object"
   ]
  },
  {
   "cell_type": "markdown",
   "metadata": {},
   "source": [
    "in order to change the color map ( the color of the 3d plot) look up the matplotlib color maps\n",
    "\n",
    "then in the cmap arguement in the p_orbital = ax_electron.plot_surface\n",
    "\n",
    "put in the str format of the color map\n",
    "\n",
    "cmap = 'winter'\n",
    "\n",
    "cmap = 'RdBu'\n",
    "\n",
    "cmap = 'inferno' etcetc"
   ]
  },
  {
   "cell_type": "code",
   "execution_count": 3,
   "metadata": {},
   "outputs": [
    {
     "data": {
      "text/plain": [
       "'/mnt/chromeos/removable/USB_0/jupyter_related/current_IRCEAS_book/NICE-OHMS-FREQ-COMB-book/images/chapter-2'"
      ]
     },
     "execution_count": 3,
     "metadata": {},
     "output_type": "execute_result"
    }
   ],
   "source": [
    "pwd"
   ]
  },
  {
   "cell_type": "code",
   "execution_count": 4,
   "metadata": {},
   "outputs": [
    {
     "data": {
      "application/vnd.jupyter.widget-view+json": {
       "model_id": "b7ce91a210b34975bf4bd306f8cb51d4",
       "version_major": 2,
       "version_minor": 0
      },
      "text/plain": [
       "interactive(children=(FloatSlider(value=1.0, description='r', max=2.0, step=0.01), Output()), _dom_classes=('w…"
      ]
     },
     "metadata": {},
     "output_type": "display_data"
    },
    {
     "data": {
      "text/plain": [
       "<function __main__.p_electron(r)>"
      ]
     },
     "execution_count": 4,
     "metadata": {},
     "output_type": "execute_result"
    }
   ],
   "source": [
    "phi = np.linspace (0, 2*np.pi, 30)\n",
    "theta = np.linspace (0, np.pi, 30)\n",
    "\n",
    "PHI, THETA = np.meshgrid(phi,theta)\n",
    "\n",
    "\n",
    "X = np.sin(THETA) * np.cos(PHI) \n",
    "Y = np.sin(THETA) * np.sin(PHI) \n",
    "Z = np.cos(THETA)\n",
    "\n",
    "def p_electron(r):\n",
    "    R=np.cos(THETA)**2 #### put in r*THETA for good fun with interact\n",
    "    electron = plt.figure()\n",
    "    electron.set_size_inches(5,5)\n",
    "    ax_electron = electron.add_subplot(111, projection ='3d')\n",
    "    ax_electron.set_axis_off()\n",
    "    p_orbital = ax_electron.plot_surface(X*R, Y*R, Z*R, rstride=1, cstride=1, cmap=plt.get_cmap('RdBu'),\n",
    "    linewidth=0, antialiased=False, alpha=0.5)\n",
    "    \n",
    "    electron.savefig('2p-electron.png',transparent = True, format='png', frameon = False)\n",
    "    electron.show()\n",
    "    \n",
    "interact(p_electron, r=(0,2,0.01),continuous_update=False)"
   ]
  },
  {
   "cell_type": "code",
   "execution_count": 7,
   "metadata": {},
   "outputs": [
    {
     "data": {
      "image/png": "[encoded data removed]",
      "text/plain": [
       "<Figure size 432x288 with 1 Axes>"
      ]
     },
     "metadata": {
      "needs_background": "light"
     },
     "output_type": "display_data"
    }
   ],
   "source": [
    "dist= plt.figure()\n",
    "dist_ax = dist.add_subplot(111)\n"
   ]
  },
  {
   "cell_type": "code",
   "execution_count": null,
   "metadata": {},
   "outputs": [],
   "source": []
  }
 ],
 "metadata": {
  "anaconda-cloud": {},
  "kernelspec": {
   "display_name": "Python 3",
   "language": "python",
   "name": "python3"
  },
  "language_info": {
   "codemirror_mode": {
    "name": "ipython",
    "version": 3
   },
   "file_extension": ".py",
   "mimetype": "text/x-python",
   "name": "python",
   "nbconvert_exporter": "python",
   "pygments_lexer": "ipython3",
   "version": "3.5.3"
  },
  "widgets": {
   "state": {
    "7ecf4e58ff154bac98b779cc6e596366": {
     "views": [
      {
       "cell_index": 6
      }
     ]
    },
    "d545a6fa4eac45febc921496d1cfe0af": {
     "views": [
      {
       "cell_index": 3
      }
     ]
    }
   },
   "version": "1.2.0"
  }
 },
 "nbformat": 4,
 "nbformat_minor": 1
}
