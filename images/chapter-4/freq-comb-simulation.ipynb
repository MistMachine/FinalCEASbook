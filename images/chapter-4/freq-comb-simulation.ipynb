{
 "cells": [
  {
   "cell_type": "code",
   "execution_count": 1,
   "metadata": {
    "collapsed": true
   },
   "outputs": [],
   "source": [
    "import numpy as np                               #for creating ndarrays for fast and efficient computations\n",
    "import scipy as sc                               #for scientific computations and purposes\n",
    "import pandas as pd                              #for tables\n",
    "pd.options.display.max_rows = 15\n",
    "\n",
    "import matplotlib as mpl                         #for graphing purposes\n",
    "import matplotlib.pyplot as plt                  #for making plots\n",
    "import matplotlib.image as mpimg                 #for images\n",
    "import matplotlib.gridspec as gridspec           #for making grids\n",
    "from matplotlib.path import Path\n",
    "import matplotlib.patches as patches\n",
    "from mpl_toolkits.mplot3d import Axes3D          #for making 3d Axes (canvas)\n",
    "from matplotlib import cm\n",
    "\n",
    "from ipywidgets import widgets, fixed            #imports widgets for interactivity with plots etc\n",
    "from ipywidgets import interact, interactive,  FloatSlider \n",
    "from IPython.display import display\n",
    "\n",
    "from __future__ import print_function\n",
    "\n",
    "#for interactive notebooks\n",
    "%matplotlib notebook\n"
   ]
  },
  {
   "cell_type": "code",
   "execution_count": null,
   "metadata": {
    "collapsed": true
   },
   "outputs": [],
   "source": []
  }
 ],
 "metadata": {
  "kernelspec": {
   "display_name": "Python [conda root]",
   "language": "python",
   "name": "conda-root-py"
  },
  "language_info": {
   "codemirror_mode": {
    "name": "ipython",
    "version": 3
   },
   "file_extension": ".py",
   "mimetype": "text/x-python",
   "name": "python",
   "nbconvert_exporter": "python",
   "pygments_lexer": "ipython3",
   "version": "3.5.2"
  }
 },
 "nbformat": 4,
 "nbformat_minor": 1
}
