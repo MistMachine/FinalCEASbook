{
 "cells": [
  {
   "cell_type": "code",
   "execution_count": 1,
   "metadata": {
    "collapsed": false
   },
   "outputs": [],
   "source": [
    "import numpy as np\n",
    "import pandas as pd\n",
    "import collections\n",
    "import matplotlib.pyplot as plt"
   ]
  },
  {
   "cell_type": "code",
   "execution_count": 2,
   "metadata": {
    "collapsed": false
   },
   "outputs": [],
   "source": [
    "a = np.random.normal(60,5,50).astype(int) #create a random set of 25 integer numbers ranging from 30 to 98 \n",
    "b = np.random.normal(60,15,50).astype(int) #create a random set of 25 integer numbers ranging from 50 to 78"
   ]
  },
  {
   "cell_type": "code",
   "execution_count": 3,
   "metadata": {
    "collapsed": false
   },
   "outputs": [],
   "source": [
    "dic={'Class A Grade':a,'Class B Grade':b} # dictionary item type\n",
    "class_grade = pd.DataFrame(dic)\n",
    "#df = df.sort_values(by=['Class A Grade','Class B Grade'], ascending=False)\n",
    "#Since we are working with two seperate 1 dimensional arrays, we use the dictionary method of intiating a \n",
    "#pandas dataframe\n",
    "#we could have alternatively stiched the arrays 'a' and 'b' into one array, 'c' and use that along with a\n",
    "#list of the two column names \n",
    "#c = np.column_stack((a,b))\n",
    "#df2=pd.DataFrame(c,columns=['Class A Grade', 'Class B Grade'])"
   ]
  },
  {
   "cell_type": "code",
   "execution_count": 4,
   "metadata": {
    "collapsed": false
   },
   "outputs": [
    {
     "data": {
      "text/plain": [
       "array([58, 58, 65, 60, 50, 65, 61, 49, 60, 61, 61, 56, 70, 67, 68, 59, 52,\n",
       "       58, 70, 62, 60, 62, 66, 59, 57, 56, 63, 54, 67, 63, 58, 67, 56, 59,\n",
       "       51, 60, 57, 53, 59, 44, 64, 67, 58, 66, 65, 71, 63, 55, 58, 56])"
      ]
     },
     "execution_count": 4,
     "metadata": {},
     "output_type": "execute_result"
    }
   ],
   "source": [
    "a"
   ]
  },
  {
   "cell_type": "code",
   "execution_count": 5,
   "metadata": {
    "collapsed": false
   },
   "outputs": [
    {
     "data": {
      "text/plain": [
       "array([83, 55, 58, 47, 84, 19, 66, 62, 55, 75, 45, 56, 45, 90,  7, 35, 68,\n",
       "       56, 50, 58, 73, 67, 52, 75, 40, 61, 41, 88, 30, 41, 61, 60, 49, 41,\n",
       "       81, 92, 80, 61, 51, 86, 68, 60, 53, 62, 71, 56, 56, 87, 57, 55])"
      ]
     },
     "execution_count": 5,
     "metadata": {},
     "output_type": "execute_result"
    }
   ],
   "source": [
    "b"
   ]
  },
  {
   "cell_type": "code",
   "execution_count": 33,
   "metadata": {
    "collapsed": false
   },
   "outputs": [],
   "source": [
    "#simple function that takes in a dataframe as an arguement and spits out the table below\n",
    "def dataframe_stat(dataframe):\n",
    "    dic_stat = {'Count':dataframe.count(), #creates a dictionary to be inputed in the pd.DataFrame() as an arguement\n",
    "                'St. Dev.':dataframe.std().astype(int),\n",
    "                'Variance':dataframe.var().astype(int),\n",
    "                'Average':dataframe.mean(),\n",
    "                'Minimum':dataframe.min(),\n",
    "                'Maximum':dataframe.max(),\n",
    "                'Sum':dataframe.sum()}\n",
    "    \n",
    "    return pd.DataFrame(dic_stat)\n",
    "\n",
    "#simplefunction for saving the stat file as a tex file document\n",
    "#the 3 argument is the dataframe, the file name and its the extension\n",
    "def dataframe_stat_save(dataframe, file_name = \"dataframe\", ext = 'tex'):\n",
    "    file_name_ext = file_name + \".\" + ext\n",
    "    dataframe_stat_tex = dataframe_stat(dataframe).to_latex()\n",
    "    tables_directory = '/home/johnson/johnnguyen1792@gmail.com/Projects/NICE-OHMS-FREQ-COMB-book/datatables/'\n",
    "    with open(tables_directory + file_name_ext, \"w\") as tex:\n",
    "        print(dataframe_stat_tex, file=tex)\n",
    "    return print('done saving')"
   ]
  },
  {
   "cell_type": "code",
   "execution_count": 34,
   "metadata": {
    "collapsed": false
   },
   "outputs": [
    {
     "name": "stdout",
     "output_type": "stream",
     "text": [
      "done saving\n"
     ]
    }
   ],
   "source": [
    "#saving the stats data of the dataframe to latex\n",
    "#input the class_grade with the file name as \"class_starts\"\n",
    "#the extension is automatically tex\n",
    "\n",
    "dataframe_stat_save(class_grade, file_name = \"class_stats\")"
   ]
  },
  {
   "cell_type": "code",
   "execution_count": 35,
   "metadata": {
    "collapsed": false
   },
   "outputs": [
    {
     "data": {
      "text/html": [
       "<div>\n",
       "<table border=\"1\" class=\"dataframe\">\n",
       "  <thead>\n",
       "    <tr style=\"text-align: right;\">\n",
       "      <th></th>\n",
       "      <th>Average</th>\n",
       "      <th>Count</th>\n",
       "      <th>Maximum</th>\n",
       "      <th>Minimum</th>\n",
       "      <th>St. Dev.</th>\n",
       "      <th>Sum</th>\n",
       "      <th>Variance</th>\n",
       "    </tr>\n",
       "  </thead>\n",
       "  <tbody>\n",
       "    <tr>\n",
       "      <th>Class A Grade</th>\n",
       "      <td>60.08</td>\n",
       "      <td>50</td>\n",
       "      <td>71</td>\n",
       "      <td>44</td>\n",
       "      <td>5</td>\n",
       "      <td>3004</td>\n",
       "      <td>33</td>\n",
       "    </tr>\n",
       "    <tr>\n",
       "      <th>Class B Grade</th>\n",
       "      <td>59.38</td>\n",
       "      <td>50</td>\n",
       "      <td>92</td>\n",
       "      <td>7</td>\n",
       "      <td>17</td>\n",
       "      <td>2969</td>\n",
       "      <td>320</td>\n",
       "    </tr>\n",
       "  </tbody>\n",
       "</table>\n",
       "</div>"
      ],
      "text/plain": [
       "               Average  Count  Maximum  Minimum  St. Dev.   Sum  Variance\n",
       "Class A Grade    60.08     50       71       44         5  3004        33\n",
       "Class B Grade    59.38     50       92        7        17  2969       320"
      ]
     },
     "execution_count": 35,
     "metadata": {},
     "output_type": "execute_result"
    }
   ],
   "source": [
    "class_grade_stat=dataframe_stat(class_grade)\n",
    "class_grade_stat"
   ]
  },
  {
   "cell_type": "code",
   "execution_count": 36,
   "metadata": {
    "collapsed": false
   },
   "outputs": [
    {
     "data": {
      "text/html": [
       "<div>\n",
       "<table border=\"1\" class=\"dataframe\">\n",
       "  <thead>\n",
       "    <tr style=\"text-align: right;\">\n",
       "      <th></th>\n",
       "      <th>Class A Grade</th>\n",
       "      <th>Class B Grade</th>\n",
       "    </tr>\n",
       "  </thead>\n",
       "  <tbody>\n",
       "    <tr>\n",
       "      <th>count</th>\n",
       "      <td>50.000000</td>\n",
       "      <td>50.000000</td>\n",
       "    </tr>\n",
       "    <tr>\n",
       "      <th>mean</th>\n",
       "      <td>60.080000</td>\n",
       "      <td>59.380000</td>\n",
       "    </tr>\n",
       "    <tr>\n",
       "      <th>std</th>\n",
       "      <td>5.756416</td>\n",
       "      <td>17.895262</td>\n",
       "    </tr>\n",
       "    <tr>\n",
       "      <th>min</th>\n",
       "      <td>44.000000</td>\n",
       "      <td>7.000000</td>\n",
       "    </tr>\n",
       "    <tr>\n",
       "      <th>25%</th>\n",
       "      <td>57.000000</td>\n",
       "      <td>50.250000</td>\n",
       "    </tr>\n",
       "    <tr>\n",
       "      <th>50%</th>\n",
       "      <td>60.000000</td>\n",
       "      <td>58.000000</td>\n",
       "    </tr>\n",
       "    <tr>\n",
       "      <th>75%</th>\n",
       "      <td>64.750000</td>\n",
       "      <td>70.250000</td>\n",
       "    </tr>\n",
       "    <tr>\n",
       "      <th>max</th>\n",
       "      <td>71.000000</td>\n",
       "      <td>92.000000</td>\n",
       "    </tr>\n",
       "  </tbody>\n",
       "</table>\n",
       "</div>"
      ],
      "text/plain": [
       "       Class A Grade  Class B Grade\n",
       "count      50.000000      50.000000\n",
       "mean       60.080000      59.380000\n",
       "std         5.756416      17.895262\n",
       "min        44.000000       7.000000\n",
       "25%        57.000000      50.250000\n",
       "50%        60.000000      58.000000\n",
       "75%        64.750000      70.250000\n",
       "max        71.000000      92.000000"
      ]
     },
     "execution_count": 36,
     "metadata": {},
     "output_type": "execute_result"
    }
   ],
   "source": [
    "class_grade.describe()"
   ]
  },
  {
   "cell_type": "code",
   "execution_count": 37,
   "metadata": {
    "collapsed": false
   },
   "outputs": [
    {
     "data": {
      "image/png": "[encoded data removed]",
      "text/plain": [
       "<matplotlib.figure.Figure at 0x7fb31d0a4cc0>"
      ]
     },
     "metadata": {},
     "output_type": "display_data"
    }
   ],
   "source": [
    "class_grade.plot.hist( bins=20 , alpha=0.80, figsize = (5,3) )\n",
    "plt.savefig('class-grades.svg',format='svg')\n",
    "plt.show()"
   ]
  }
 ],
 "metadata": {
  "anaconda-cloud": {},
  "kernelspec": {
   "display_name": "Python [conda root]",
   "language": "python",
   "name": "conda-root-py"
  },
  "language_info": {
   "codemirror_mode": {
    "name": "ipython",
    "version": 3
   },
   "file_extension": ".py",
   "mimetype": "text/x-python",
   "name": "python",
   "nbconvert_exporter": "python",
   "pygments_lexer": "ipython3",
   "version": "3.5.2"
  }
 },
 "nbformat": 4,
 "nbformat_minor": 1
}
