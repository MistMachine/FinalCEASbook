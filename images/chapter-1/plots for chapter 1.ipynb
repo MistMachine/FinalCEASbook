{
 "cells": [
  {
   "cell_type": "markdown",
   "metadata": {},
   "source": [
    "\n",
    "This notebook contains a list of graphs listed in chapter 1"
   ]
  },
  {
   "cell_type": "code",
   "execution_count": 1,
   "metadata": {},
   "outputs": [],
   "source": [
    "from __future__ import print_function\n",
    "import numpy as np                               #for creating ndarrays for fast and efficient computations\n",
    "import scipy as sc                               #for scientific computations and purposes\n",
    "import pandas as pd                              #for tables\n",
    "pd.options.display.max_rows = 15\n",
    "\n",
    "import matplotlib as mpl                         #for graphing purposes\n",
    "import matplotlib.pyplot as plt                  #for making plots\n",
    "import matplotlib.image as mpimg                 #for images\n",
    "import matplotlib.gridspec as gridspec           #for making grids\n",
    "from matplotlib.path import Path\n",
    "import matplotlib.patches as patches\n",
    "from mpl_toolkits.mplot3d import Axes3D          #for making 3d Axes (canvas)\n",
    "\n",
    "from ipywidgets import widgets, fixed            #imports widgets for interactivity with plots etc\n",
    "from ipywidgets import interact, interactive,  FloatSlider \n",
    "from IPython.display import display\n",
    "\n",
    "#for interactive notebooks\n",
    "%matplotlib notebook\n"
   ]
  },
  {
   "cell_type": "markdown",
   "metadata": {},
   "source": [
    "going to make some figure objects to make plots of typical broadband and gaussian linewidths"
   ]
  },
  {
   "cell_type": "code",
   "execution_count": 2,
   "metadata": {},
   "outputs": [],
   "source": [
    "#This is to define the paths and cordinates to create the orange box in the linewidths figure\n",
    "\n",
    "verts = [(4.2827e+14, 0),\n",
    "        (6.6621e+14,0),\n",
    "        (6.6621e+14,1),\n",
    "        (4.2827e+14, 1),\n",
    "        (4.2827e+14, 0)]\n",
    "\n",
    "codes =[Path.MOVETO,            #this is the starting point\n",
    "       Path.LINETO,\n",
    "       Path.LINETO,\n",
    "       Path.LINETO,\n",
    "       Path.CLOSEPOLY,]\n",
    "path=Path(verts,codes)"
   ]
  },
  {
   "cell_type": "markdown",
   "metadata": {},
   "source": [
    "Next cell is for defining all the variables and arrays to produce the lines in the figures"
   ]
  },
  {
   "cell_type": "code",
   "execution_count": 3,
   "metadata": {},
   "outputs": [],
   "source": [
    "#defining the arrays for the linewidth plots\n",
    "v = np.linspace(1.0*10**14,1.0*10**15,1000)    # (Hz) this is the frequency range (x axis) we will be plotting \n",
    "h = 6.626 * 10 ** -34                       # (J * s) Planks constant\n",
    "T =5000.0                                  # temperature of the medium\n",
    "c = 3.00*10**8                              # (m / s) speed of light\n",
    "k = 1.380*10**-23                           # (J / K) boltzmann constant\n",
    "\n",
    "#for subplot\n",
    "\n",
    "#Black Body Radiation line and properties\n",
    "I_o_black = 30000000*h*v**3/(c**2)\n",
    "I_black = I_o_black/(np.exp(h * v / (k * T))- 1)\n",
    "\n",
    "#Normal distribution line and properties\n",
    "sigma = 1.0         #the linewidth of the beam\n",
    "carrier = 5.0e+14 #the frequency of the input beam ~~approximately 600nm\n",
    "I_o_gaus = 1.0 / np.sqrt(2.0*sigma**2.0*np.pi)\n",
    "I_gaus = I_o_gaus * np.exp(-(v-carrier)**2/(2*sigma**2))\n",
    "\n",
    "#Box path for visible light\n",
    "patch = patches.PathPatch(path,facecolor='orange',lw=1)"
   ]
  },
  {
   "cell_type": "markdown",
   "metadata": {},
   "source": [
    "Now to actually begin making figures with matplotlib"
   ]
  },
  {
   "cell_type": "code",
   "execution_count": 4,
   "metadata": {},
   "outputs": [
    {
     "name": "stderr",
     "output_type": "stream",
     "text": [
      "/home/johnnguyen1792/.local/lib/python3.5/site-packages/matplotlib/figure.py:445: UserWarning: Matplotlib is currently using module://ipykernel.pylab.backend_inline, which is a non-GUI backend, so cannot show the figure.\n",
      "  % get_backend())\n"
     ]
    },
    {
     "data": {
      "image/png": "[encoded data removed]",
      "text/plain": [
       "<Figure size 576x288 with 1 Axes>"
      ]
     },
     "metadata": {
      "needs_background": "light"
     },
     "output_type": "display_data"
    }
   ],
   "source": [
    "#I do not use the the same wording as in the documentation. Unless you really want to be an artist with\n",
    "#Matplotlib, than I \n",
    "#figure object#\n",
    "linewidths = plt.figure()   #creates figure object labelled linewidths so that we can place out subplots etc inside\n",
    "linewidths.set_size_inches(8,4)\n",
    "\n",
    "#subplot object#\n",
    "ax_linewidths=linewidths.add_subplot(111) #this is what we actually draw in, is held inside linewidth figure object\n",
    "ax_linewidths.set_xlim(3.0*10**14,8.0*10**14)\n",
    "ax_linewidths.set_ylim(0.0,0.5)\n",
    "\n",
    "#line#\n",
    "gaus_beam=ax_linewidths.plot(v, I_gaus, 'r',label = 'Gaussian Beam')\n",
    "line_I_black = ax_linewidths.plot(v,I_black, 'b', label = 'Black Body Radiation')\n",
    "\n",
    "#Box#\n",
    "vis_light = ax_linewidths.add_patch(patch)\n",
    "\n",
    "\n",
    "ax_title = ax_linewidths.set_title('Linewidths of Lasers and Broadband Source',fontsize=18)\n",
    "x_label_linewidths = ax_linewidths.set_xlabel('frequency (Hz)',fontsize = 13) #sets the subplot y label\n",
    "y_label_linewidths = ax_linewidths.set_ylabel('Normalized Intensity',fontsize = 13) #sets the subplot y label\n",
    "ax_linewidths.legend(fontsize=13) #makes the legend for the subplot be displayed\n",
    "\n",
    "ax_linewidths.annotate('Visible Light \\nRegion',xy=(5.15e14, 0.25),fontsize=16) \n",
    "#essentially how these plots work is that\n",
    "#make a figure object\n",
    "#make a canvas of somesorts, I prefer using subplots just incase I decide to make two plots\n",
    "#create a line and draw it within the canvas/subplot\n",
    "#create labels, titles, legends\n",
    "#set the limits with which to plot\n",
    "\n",
    "#How I think when trying to visualize the structure plotting of lines into a axes within figure\n",
    "#fig.ax.line() where in your figure class object with anz subplot attribute labeled ax with an line attribute \n",
    "#labeled line\n",
    "#for this figure in particular, linewidths.ax_linewidths.gaus_beam\n",
    "linewidths.show()"
   ]
  },
  {
   "cell_type": "code",
   "execution_count": 5,
   "metadata": {},
   "outputs": [],
   "source": [
    "x_sample_length = np.linspace (0.0,10.0,100)\n",
    "I_atten = np.exp(-x_sample_length/10)"
   ]
  },
  {
   "cell_type": "code",
   "execution_count": 6,
   "metadata": {},
   "outputs": [
    {
     "data": {
      "image/png": "[encoded data removed]",
      "text/plain": [
       "<Figure size 504x216 with 1 Axes>"
      ]
     },
     "metadata": {
      "needs_background": "light"
     },
     "output_type": "display_data"
    }
   ],
   "source": [
    "#making another plot with the same setup, just look at the comments in the first plot\n",
    "\n",
    "atten_beam = plt.figure()\n",
    "atten_beam.set_size_inches(7,3)\n",
    "ax_atten_beam = atten_beam.add_subplot(111)\n",
    "ax_atten_beam.set_ylim(0,1)\n",
    "ax_atten_beam.set_xlim(0,10)\n",
    "intensity = ax_atten_beam.plot(x_sample_length, I_atten, label = 'Attenuation of Gaussian Beam')\n",
    "#x_label_atten_beam = ax_atten_beam.set_xlabel('Sample Length (cm)')\n",
    "#y_label_atten_beam = ax_atten_beam.set_ylabel('Normalized Intensity')\n",
    "ax_atten_beam.legend(fontsize=15)\n",
    "atten_beam.show()"
   ]
  },
  {
   "cell_type": "code",
   "execution_count": 7,
   "metadata": {},
   "outputs": [],
   "source": [
    "u=np.linspace(0.0,1000.0,100)\n",
    "v=np.ones(10)"
   ]
  },
  {
   "cell_type": "code",
   "execution_count": 8,
   "metadata": {},
   "outputs": [],
   "source": [
    "U, V = np.meshgrid(u, v)"
   ]
  },
  {
   "cell_type": "code",
   "execution_count": 9,
   "metadata": {},
   "outputs": [
    {
     "data": {
      "image/png": "[encoded data removed]",
      "text/plain": [
       "<Figure size 504x216 with 1 Axes>"
      ]
     },
     "metadata": {
      "needs_background": "light"
     },
     "output_type": "display_data"
    }
   ],
   "source": [
    "spectrum = plt.figure(figsize=(7,3))\n",
    "ax_spectrum = spectrum.add_subplot(111)\n",
    "ax_spectrum.set_axis_off()\n",
    "visible = ax_spectrum.imshow(U, cmap='rainbow')\n",
    "spectrum.savefig('visible-light.png',format='png')"
   ]
  },
  {
   "cell_type": "code",
   "execution_count": 10,
   "metadata": {},
   "outputs": [],
   "source": [
    "c = 2.99792458 * 10**8\n",
    "infrared_range = np.array([2.0,2.5])*10**-6\n",
    "microwave_range = np.array([0.001,1])\n",
    "electronic_range = np.array([380, 940])*10**-9\n",
    "total_range = np.array([1*10**-10,10])"
   ]
  },
  {
   "cell_type": "code",
   "execution_count": 11,
   "metadata": {},
   "outputs": [],
   "source": [
    "def frequency_from_wavelength (wavelength):\n",
    "    frequency = c / wavelength\n",
    "    return frequency"
   ]
  },
  {
   "cell_type": "code",
   "execution_count": 12,
   "metadata": {},
   "outputs": [
    {
     "data": {
      "text/plain": [
       "array([1.49896229e+14, 1.19916983e+14])"
      ]
     },
     "execution_count": 12,
     "metadata": {},
     "output_type": "execute_result"
    }
   ],
   "source": [
    "frequency_from_wavelength(infrared_range)"
   ]
  },
  {
   "cell_type": "code",
   "execution_count": 13,
   "metadata": {},
   "outputs": [
    {
     "data": {
      "text/plain": [
       "array([2.99792458e+11, 2.99792458e+08])"
      ]
     },
     "execution_count": 13,
     "metadata": {},
     "output_type": "execute_result"
    }
   ],
   "source": [
    "frequency_from_wavelength(microwave_range)"
   ]
  },
  {
   "cell_type": "code",
   "execution_count": 14,
   "metadata": {},
   "outputs": [
    {
     "data": {
      "text/plain": [
       "array([7.88927521e+14, 3.18928147e+14])"
      ]
     },
     "execution_count": 14,
     "metadata": {},
     "output_type": "execute_result"
    }
   ],
   "source": [
    "frequency_from_wavelength(electronic_range)"
   ]
  },
  {
   "cell_type": "code",
   "execution_count": 15,
   "metadata": {},
   "outputs": [
    {
     "data": {
      "text/plain": [
       "array([2.99792458e+18, 2.99792458e+07])"
      ]
     },
     "execution_count": 15,
     "metadata": {},
     "output_type": "execute_result"
    }
   ],
   "source": [
    "frequency_from_wavelength(total_range)"
   ]
  },
  {
   "cell_type": "code",
   "execution_count": 16,
   "metadata": {},
   "outputs": [
    {
     "data": {
      "image/png": "[encoded data removed]",
      "text/plain": [
       "<Figure size 504x72 with 1 Axes>"
      ]
     },
     "metadata": {
      "needs_background": "light"
     },
     "output_type": "display_data"
    }
   ],
   "source": [
    "y_value = np.array([1,1])\n",
    "frequency_ranges = plt.figure()\n",
    "frequency_ranges.set_size_inches(7,1)\n",
    "frequency_ranges_ax = frequency_ranges.add_subplot(111)\n",
    "frequency_ranges_ax.set_ylim(0,2)\n",
    "plt.xscale('log')\n",
    "ir = frequency_ranges_ax.plot(infrared_range, y_value, label =  'Rovibrational range')\n",
    "vis = frequency_ranges_ax.plot(electronic_range, y_value, label = 'Electronic Range')\n",
    "mw = frequency_ranges_ax.plot(microwave_range, y_value, label = 'rotational range')\n",
    "frequency_ranges_ax.legend(fontsize = 15)\n",
    "frequency_ranges.show()\n",
    "frequency_ranges.savefig('ranges_of_transitions.png',format='png')"
   ]
  },
  {
   "cell_type": "code",
   "execution_count": null,
   "metadata": {},
   "outputs": [],
   "source": []
  }
 ],
 "metadata": {
  "anaconda-cloud": {},
  "kernelspec": {
   "display_name": "Python 3",
   "language": "python",
   "name": "python3"
  },
  "language_info": {
   "codemirror_mode": {
    "name": "ipython",
    "version": 3
   },
   "file_extension": ".py",
   "mimetype": "text/x-python",
   "name": "python",
   "nbconvert_exporter": "python",
   "pygments_lexer": "ipython3",
   "version": "3.5.3"
  }
 },
 "nbformat": 4,
 "nbformat_minor": 2
}
